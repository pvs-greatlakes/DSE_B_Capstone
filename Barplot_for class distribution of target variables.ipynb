{
 "cells": [
  {
   "cell_type": "code",
   "execution_count": 6,
   "id": "acb7ab1d",
   "metadata": {},
   "outputs": [],
   "source": [
    "import   pandas             as   pd\n",
    "import   numpy              as   np\n",
    "import   seaborn            as   sns\n",
    "import   matplotlib.pyplot  as   plt"
   ]
  },
  {
   "cell_type": "code",
   "execution_count": 9,
   "id": "20269581",
   "metadata": {},
   "outputs": [],
   "source": [
    "df       =     pd.DataFrame({'Late_delivery_risk' : ['Yes', 'Yes', 'No', 'No', 'Yes', 'Yes',\\\n",
    "                                                    'Yes','Yes','Yes','Yes','No','No','Yes',\\\n",
    "                                                    'No','Yes','Yes','Yes','No','No','No',\\\n",
    "                                                    'Yes','No','Yes','Yes','Yes','Yes','No',\\\n",
    "                                                    'Yes','Yes','No','Yes','Yes','Yes','Yes',\\\n",
    "                                                    'Yes','No','No','No','Yes','Yes','Yes',\\\n",
    "                                                    'Yes','No','No','Yes','No','Yes','Yes',\\\n",
    "                                                    'Yes','Yes','No','No','No','Yes','No',\\\n",
    "                                                    'No','Yes','No','Yes','No','Yes','Yes']})"
   ]
  },
  {
   "cell_type": "code",
   "execution_count": 5,
   "id": "ae03748c",
   "metadata": {},
   "outputs": [
    {
     "data": {
      "text/plain": [
       "(62, 1)"
      ]
     },
     "execution_count": 5,
     "metadata": {},
     "output_type": "execute_result"
    }
   ],
   "source": [
    "df.shape"
   ]
  },
  {
   "cell_type": "code",
   "execution_count": 11,
   "id": "a01490d9",
   "metadata": {},
   "outputs": [
    {
     "data": {
      "text/plain": [
       "Yes    38\n",
       "No     24\n",
       "Name: Late_delivery_risk, dtype: int64"
      ]
     },
     "execution_count": 11,
     "metadata": {},
     "output_type": "execute_result"
    }
   ],
   "source": [
    "df['Late_delivery_risk'].value_counts()"
   ]
  },
  {
   "cell_type": "code",
   "execution_count": 31,
   "id": "b5e72f05",
   "metadata": {},
   "outputs": [
    {
     "data": {
      "image/png": "[encoded data removed]",
      "text/plain": [
       "<Figure size 720x432 with 1 Axes>"
      ]
     },
     "metadata": {
      "needs_background": "light"
     },
     "output_type": "display_data"
    }
   ],
   "source": [
    "plt.figure(figsize = (10, 6))\n",
    "latedelrisk =  df['Late_delivery_risk'].apply(lambda s: s.split('/')[0].split()[-1]).value_counts()\n",
    "ax          =  sns.barplot(x = latedelrisk.index, y =  latedelrisk.values, data = df)\n",
    "plt.title('\\nDistibution of classes in the target variable \\n')\n",
    "plt.ylabel('Number of Occurrences', fontsize=12)\n",
    "plt.xlabel('Late Delivery Risk', fontsize=12)\n",
    "# now simply assign the bar values to\n",
    "# each bar by passing containers method\n",
    "# to bar_label function\n",
    "ax.bar_label(container = ax.containers[0], padding = 3)\n",
    "plt.show()"
   ]
  }
 ],
 "metadata": {
  "kernelspec": {
   "display_name": "Python 3 (ipykernel)",
   "language": "python",
   "name": "python3"
  },
  "language_info": {
   "codemirror_mode": {
    "name": "ipython",
    "version": 3
   },
   "file_extension": ".py",
   "mimetype": "text/x-python",
   "name": "python",
   "nbconvert_exporter": "python",
   "pygments_lexer": "ipython3",
   "version": "3.9.12"
  }
 },
 "nbformat": 4,
 "nbformat_minor": 5
}
